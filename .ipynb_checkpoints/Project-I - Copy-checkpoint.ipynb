{
 "cells": [
  {
   "cell_type": "markdown",
   "metadata": {},
   "source": [
    "# <span style=\"color:Orange\"> Project 1 </span>"
   ]
  },
  {
   "cell_type": "code",
   "execution_count": 255,
   "metadata": {},
   "outputs": [],
   "source": [
    "import numpy as np\n",
    "import matplotlib.pyplot as plt\n",
    "plt.style.use('seaborn-whitegrid')"
   ]
  },
  {
   "cell_type": "code",
   "execution_count": null,
   "metadata": {},
   "outputs": [],
   "source": []
  },
  {
   "cell_type": "markdown",
   "metadata": {},
   "source": [
    "## <span style=\"color:red\"> Problem</span>\n",
    "\n",
    "Develop a program using Monte Carlo method to simulate the Ising model on a square  \n",
    "lattice (2-dimension: L×L) at the no external magnetic field case (H=0). Choose the  \n",
    "lattice edge L=20. Use the periodic boundary condition. And only consider the nearest  \n",
    "coupling/interaction.\n",
    "\n",
    "**Required parts of the project:**\n",
    "1. Introduction\n",
    "   - Briefly describe the phases (ferromagnetic and paramagnetic) and the phase  \n",
    "   transition; Microstates and its probability; Statistical average;\n",
    "   - Ising model: spin and its possible values; the energy of the system; how many\n",
    "   microstates for N spins (N= L×L).\n",
    "   - Monte Carlo method on a Ising model; Important sampling; How to calculate Eflip.  \n",
    "   \n",
    "2. Pseudocode of ‘float chart’ of your design of the Monte Carlo simulation.  \n",
    "\n",
    "3. Write your own code (in Matlab or python). Attach your code.\n",
    "\n",
    "4. Calculate the magnetization M (= \\<s\\>) and the total energy \\<E\\> for 50 different   \n",
    "    temperature steps from T=0.0 to T=5.0 (or a range your can observe a phase  \n",
    "    transition). Plot them against T’s. Discuss the physics from your results.   \n",
    "    Use the unit J/kB=1 (so your T is in J/kB and \\<E\\> is in J).   \n",
    "    Estimate the Curry temperature Tc. \n",
    "\n"
   ]
  },
  {
   "cell_type": "markdown",
   "metadata": {},
   "source": [
    "### <span style=\"color:skyblue\"> Solution </span>"
   ]
  },
  {
   "cell_type": "markdown",
   "metadata": {},
   "source": [
    "![solution](images/solution.png)"
   ]
  },
  {
   "cell_type": "markdown",
   "metadata": {},
   "source": [
    "### <span style=\"color:skyblue\"> text text text </span>"
   ]
  },
  {
   "cell_type": "code",
   "execution_count": 256,
   "metadata": {},
   "outputs": [],
   "source": [
    "#     print(\"spins:\")\n",
    "#     print(spins)\n",
    "#     print(\"\")\n",
    "#     print(\"loc_spin:\", loc_spin)\n",
    "#     print(\"\")\n",
    "#     print(\"i_u:\", i_u)\n",
    "#     print(\"i_d:\", i_d)\n",
    "#     print(\"j_l:\", j_l)\n",
    "#     print(\"j_r:\", j_r)\n",
    "#     print(spins[i, j])\n",
    "#     print()\n",
    "#     print(\"E_flip:\", E_flip)"
   ]
  },
  {
   "cell_type": "code",
   "execution_count": 257,
   "metadata": {},
   "outputs": [],
   "source": [
    "################################################################################\n",
    "######################## get_rand_lattice ######################################\n",
    "def get_spin_lattice(size_lattice = [20, 20], plot_enabled = True):\n",
    "    \n",
    "    \"\"\"\n",
    "    General info:\n",
    "        This function returns a random 2D-numpy-array of spins of given size\n",
    "        <size_lattice>.\n",
    "    Arguments:\n",
    "        size_lattice : 2D lattice size\n",
    "    \"\"\"\n",
    "    \n",
    "    pts_rand_2D                    = np.random.random(size_lattice)\n",
    "    spins                          = np.zeros(size_lattice)\n",
    "    spins[pts_rand_2D >= 0.50] = +1\n",
    "    spins[pts_rand_2D <  0.50] = -1\n",
    "    if plot_enabled: plt.imshow(spins)\n",
    "    \n",
    "    return spins\n",
    "######################## get_rand_lattice ######################################\n",
    "################################################################################"
   ]
  },
  {
   "cell_type": "code",
   "execution_count": 258,
   "metadata": {},
   "outputs": [
    {
     "data": {
      "image/png": "[encoded data removed]",
      "text/plain": [
       "<Figure size 432x288 with 1 Axes>"
      ]
     },
     "metadata": {},
     "output_type": "display_data"
    }
   ],
   "source": [
    "spins_old = get_spin_lattice(size_lattice = [20, 20])"
   ]
  },
  {
   "cell_type": "code",
   "execution_count": 259,
   "metadata": {},
   "outputs": [],
   "source": [
    "################################################################################\n",
    "######################## get_E_total ###########################################\n",
    "def get_E_total(spins):\n",
    "    spins  = np.array(spins)\n",
    "    n_rows = np.shape(spins)[0]\n",
    "    n_cols = np.shape(spins)[1]\n",
    "\n",
    "    # Loop over lattice points to calculate energy >>\n",
    "    E = 0\n",
    "    for i in range(n_rows):\n",
    "        for j in range(n_cols):\n",
    "            i_u = i - 1 if not(i == 0)          else n_rows - 1     # << index of row up\n",
    "            i_d = i + 1 if not(i == n_rows - 1) else 0              # << index of row down\n",
    "            j_l = j - 1 if not(j == 0)          else n_cols - 1     # << index of col left\n",
    "            j_r = j + 1 if not(j == n_cols - 1) else 0              # << index of col right\n",
    "            E   = E - spins[i, j] * (spins[i_u, j] + spins[i_d, j] + spins[i, j_l] + spins[i, j_r])\n",
    "            # for m in range(n_rows):\n",
    "                # for n in range(n_rows):\n",
    "                    # E = E - spins[i, j] * spins[m, n]\n",
    "    return E\n",
    "######################## get_E_total ###########################################\n",
    "################################################################################"
   ]
  },
  {
   "cell_type": "code",
   "execution_count": 260,
   "metadata": {},
   "outputs": [
    {
     "data": {
      "text/plain": [
       "-40.0"
      ]
     },
     "execution_count": 260,
     "metadata": {},
     "output_type": "execute_result"
    }
   ],
   "source": [
    "E_total_old = get_E_total(spins_old)\n",
    "E_total_old"
   ]
  },
  {
   "cell_type": "code",
   "execution_count": 261,
   "metadata": {},
   "outputs": [],
   "source": [
    "################################################################################\n",
    "######################## get_E_flip ############################################\n",
    "def get_E_flip( spins    = [[1, -1, 1], [-1, 1, -1], [1, -1, 1]],\n",
    "                loc_spin = [1, 1] ):\n",
    "    \n",
    "    \"\"\"\n",
    "    General info:\n",
    "        This function calculates change in energy (E_flip) of a lattice system \n",
    "        due to flip of one of the lattice point spin.\n",
    "    Arguments:\n",
    "        spins    : 2D array/list of spins\n",
    "        loc_spin : location of the spin to be flipped\n",
    "    \"\"\"\n",
    "    \n",
    "    spins  = np.array(spins)\n",
    "    n_rows = np.shape(spins)[0]\n",
    "    n_cols = np.shape(spins)[1]\n",
    "    \n",
    "    i = loc_spin[0]\n",
    "    j = loc_spin[1]\n",
    "    \n",
    "    # Neighbour points >>\n",
    "    i_u = i - 1 if not(i == 0)          else n_rows - 1     # << index of row up\n",
    "    i_d = i + 1 if not(i == n_rows - 1) else 0              # << index of row down\n",
    "    j_l = j - 1 if not(j == 0)          else n_cols - 1     # << index of col left\n",
    "    j_r = j + 1 if not(j == n_cols - 1) else 0              # << index of col right\n",
    "    \n",
    "    # Calculating E_flip >>\n",
    "    J = 1\n",
    "    E_flip = 2 * J * spins[i, j] * (spins[i_u, j] + spins[i_d, j] + spins[i, j_l] + spins[i, j_r])\n",
    "    \n",
    "    return E_flip\n",
    "######################## get_E_flip ############################################\n",
    "################################################################################"
   ]
  },
  {
   "cell_type": "code",
   "execution_count": 265,
   "metadata": {},
   "outputs": [
    {
     "name": "stdout",
     "output_type": "stream",
     "text": [
      "E_total_new               : -48.0\n",
      "E_total_old               : -40.0\n",
      "E_total_new - E_total_old : -8.0\n",
      "E_flip                    : -4.0\n"
     ]
    }
   ],
   "source": [
    "print(f\"E_total_new               : {E_total_new}\")\n",
    "print(f\"E_total_old               : {E_total_old}\")\n",
    "\n",
    "spins_new         = spins_old.copy()\n",
    "spins_new[18, 18] = - spins_old[18, 18]\n",
    "E_total_new       = get_E_total(spins_new)\n",
    "print(f\"E_total_new - E_total_old : {E_total_new - E_total_old}\")\n",
    "\n",
    "E_flip       = get_E_flip( spins    = spins_old,\n",
    "                           loc_spin = [18, 18] )\n",
    "print(f\"E_flip                    : {E_flip}\")"
   ]
  },
  {
   "cell_type": "code",
   "execution_count": 266,
   "metadata": {},
   "outputs": [
    {
     "data": {
      "text/plain": [
       "<matplotlib.image.AxesImage at 0x1c88cf44850>"
      ]
     },
     "execution_count": 266,
     "metadata": {},
     "output_type": "execute_result"
    },
    {
     "data": {
      "image/png": "[encoded data removed]",
      "text/plain": [
       "<Figure size 432x288 with 1 Axes>"
      ]
     },
     "metadata": {},
     "output_type": "display_data"
    }
   ],
   "source": [
    "plt.imshow(spins_old)"
   ]
  },
  {
   "cell_type": "code",
   "execution_count": 267,
   "metadata": {},
   "outputs": [
    {
     "data": {
      "text/plain": [
       "<matplotlib.image.AxesImage at 0x1c88b5c0d60>"
      ]
     },
     "execution_count": 267,
     "metadata": {},
     "output_type": "execute_result"
    },
    {
     "data": {
      "image/png": "[encoded data removed]",
      "text/plain": [
       "<Figure size 432x288 with 1 Axes>"
      ]
     },
     "metadata": {},
     "output_type": "display_data"
    }
   ],
   "source": [
    "plt.imshow(spins_new)"
   ]
  },
  {
   "cell_type": "code",
   "execution_count": null,
   "metadata": {},
   "outputs": [],
   "source": []
  },
  {
   "cell_type": "code",
   "execution_count": 123,
   "metadata": {},
   "outputs": [],
   "source": [
    "################################################################################\n",
    "######################## sweep_single ##########################################\n",
    "def sweep_single( spins = [[1, -1, 1], [-1, 1, -1], [1, -1, 1]],\n",
    "                  T     = 1 ):\n",
    "    \n",
    "    \"\"\"\n",
    "    General info:\n",
    "        This function performs a single sweep across all the latice points with \n",
    "        the periodic boundary to bring the system in equilibrium with heat bath.\n",
    "    Arguments:\n",
    "        spins : 2D array/list of spins\n",
    "        T     : Temperature of the system\n",
    "    \"\"\"\n",
    "    \n",
    "    # print(\"Old spins: \")\n",
    "    # print(spins)\n",
    "    # E_old = get_E_total(spins)\n",
    "    # print(\"E_old:\", E_old)\n",
    "    # print()\n",
    "    \n",
    "    n_rows = np.shape(spins)[0]\n",
    "    n_cols = np.shape(spins)[1]\n",
    "    \n",
    "    # Loop for flipping spins over all lattice points >>\n",
    "    E = 0\n",
    "    spins_new = spins.copy()\n",
    "    for i in range(n_rows):\n",
    "        for j in range(n_cols):\n",
    "            E_flip = get_E_flip( spins    = spins,\n",
    "                                 loc_spin = [i, j] )\n",
    "            if E_flip < 0 or np.exp(-E_flip/T) > np.random.uniform():\n",
    "                spins_new[i, j] = - spins[i, j]\n",
    "                E = E + E_flip\n",
    "    # print(\"New spins: \")\n",
    "    # print(spins)\n",
    "    # print()\n",
    "    E_total_new = get_E_total(spins_new)\n",
    "    # print(\"E_total:\", E_new)\n",
    "    \n",
    "    return spins_new, E_total_new, E\n",
    "######################## sweep_single ##########################################\n",
    "################################################################################"
   ]
  },
  {
   "cell_type": "code",
   "execution_count": 124,
   "metadata": {},
   "outputs": [
    {
     "data": {
      "text/plain": [
       "<matplotlib.image.AxesImage at 0x1c88bcffdc0>"
      ]
     },
     "execution_count": 124,
     "metadata": {},
     "output_type": "execute_result"
    },
    {
     "data": {
      "image/png": "[encoded data removed]",
      "text/plain": [
       "<Figure size 432x288 with 1 Axes>"
      ]
     },
     "metadata": {},
     "output_type": "display_data"
    }
   ],
   "source": [
    "plt.imshow(spins_old)"
   ]
  },
  {
   "cell_type": "code",
   "execution_count": 133,
   "metadata": {},
   "outputs": [
    {
     "data": {
      "text/plain": [
       "-352.0"
      ]
     },
     "execution_count": 133,
     "metadata": {},
     "output_type": "execute_result"
    },
    {
     "data": {
      "image/png": "[encoded data removed]",
      "text/plain": [
       "<Figure size 432x288 with 1 Axes>"
      ]
     },
     "metadata": {},
     "output_type": "display_data"
    }
   ],
   "source": [
    "spins_new, E_total_new, E = sweep_single( spins = spins_old,\n",
    "                                       T     = 1 )\n",
    "plt.imshow(spins_new)\n",
    "E_total_new"
   ]
  },
  {
   "cell_type": "code",
   "execution_count": 134,
   "metadata": {},
   "outputs": [
    {
     "data": {
      "text/plain": [
       "-484.0"
      ]
     },
     "execution_count": 134,
     "metadata": {},
     "output_type": "execute_result"
    }
   ],
   "source": [
    "E"
   ]
  },
  {
   "cell_type": "code",
   "execution_count": 135,
   "metadata": {},
   "outputs": [
    {
     "data": {
      "text/plain": [
       "-440.0"
      ]
     },
     "execution_count": 135,
     "metadata": {},
     "output_type": "execute_result"
    }
   ],
   "source": [
    "E_total_new - E_total_old"
   ]
  },
  {
   "cell_type": "code",
   "execution_count": 73,
   "metadata": {},
   "outputs": [],
   "source": [
    "################################################################################\n",
    "######################## sweep_N ###############################################\n",
    "def sweep_N( spins = [[1, -1, 1], [-1, 1, -1], [1, -1, 1]],\n",
    "             n     = 1000,\n",
    "             T     = 1):\n",
    "    \n",
    "    \"\"\"\n",
    "    General info:\n",
    "        This function performs 'n' no. of sweeps across all the latice points with \n",
    "        the periodic boundary to bring the system in equilibrium with heat bath.\n",
    "    Arguments:\n",
    "        spins : 2D array/list of spins\n",
    "        n     : No. of sweeps\n",
    "        T     : Temperature of the system\n",
    "    \"\"\"\n",
    "    \n",
    "    spins = np.array(spins)\n",
    "    \n",
    "    # Loop for 'n' no. of sweeps >>\n",
    "    for _ in range(n):\n",
    "        spins_new, E_new = sweep_single( spins = spins,\n",
    "                                         T     = T )\n",
    "    \n",
    "    return spins_new, E_new\n",
    "######################## sweep_N ###############################################\n",
    "################################################################################"
   ]
  },
  {
   "cell_type": "code",
   "execution_count": 74,
   "metadata": {
    "scrolled": false
   },
   "outputs": [
    {
     "name": "stdout",
     "output_type": "stream",
     "text": [
      "-104.0\n"
     ]
    }
   ],
   "source": [
    "spins_new, E_total_new = sweep_N( spins = spins_old,\n",
    "                                  n     = 50,\n",
    "                                  T     = 2)\n",
    "# print(spins_new)\n",
    "print(E_total_new)"
   ]
  },
  {
   "cell_type": "code",
   "execution_count": 75,
   "metadata": {},
   "outputs": [],
   "source": [
    "################################################################################\n",
    "######################## ising_model_2D ########################################\n",
    "def ising_model_2D(  size_lattice   = (10, 10),\n",
    "                     period_burnout = 1000,\n",
    "                     temp_range     = (0.1, 5),\n",
    "                     N              = 50 ):\n",
    "    \n",
    "    \"\"\"\n",
    "    General info:\n",
    "        #$^#$%$#%#$%#$%#$%#$%@!#@!!^%*#%^(#^#$^)\n",
    "    Arguments:\n",
    "        size_lattice   : 2D lattice size\n",
    "        period_burnout : Burnout period (no. of sweeps) to reach equilibrium state\n",
    "        temp_range     : Temperature range\n",
    "        N              : No. of sweeps for the simulation\n",
    "    \"\"\"\n",
    "\n",
    "    from progressbar import ProgressBar\n",
    "    \n",
    "    spins_old = get_spin_lattice(   size_lattice = size_lattice,\n",
    "                                    plot_enabled = False )\n",
    "    \n",
    "    Ts     = np.linspace(temp_range[0], temp_range[1], num = 50)\n",
    "    len_Ts = len(Ts)\n",
    "    M_avg  = [np.nan] * len_Ts\n",
    "    E_avg  = [np.nan] * len_Ts\n",
    "\n",
    "    # Loop for temperatures >>\n",
    "    pbar = ProgressBar()\n",
    "    j    = -1\n",
    "    for T in pbar(Ts):\n",
    "        j = j + 1\n",
    "        # Burnout runs >>    \n",
    "        spins_eqib, _ = sweep_N( spins = spins_old,\n",
    "                                 n     = 100,\n",
    "                                 T     = T )\n",
    "        \n",
    "        # Loop for N sweeps >>\n",
    "        Ms = [np.nan] * N\n",
    "        Es = [np.nan] * N\n",
    "        for i in range(N):\n",
    "            spins_new, E_new = sweep_single( spins = spins_eqib,\n",
    "                                             T     = 1 )\n",
    "            Ms[i] = abs(spins_new.sum())\n",
    "            Es[i] = abs(E_new)\n",
    "        \n",
    "        M_avg[j] = np.average(Ms)\n",
    "        E_avg[j] = np.average(Es)\n",
    "        \n",
    "    return Ts, Ms, Es, M_avg, E_avg\n",
    "######################## ising_model_2D ########################################\n",
    "###############################################################################"
   ]
  },
  {
   "cell_type": "code",
   "execution_count": null,
   "metadata": {},
   "outputs": [
    {
     "name": "stderr",
     "output_type": "stream",
     "text": [
      "  0% |                                                                        |\r"
     ]
    }
   ],
   "source": [
    "Ts, Ms, Es, M_avg, E_avg = ising_model_2D(  size_lattice   = (20, 20),\n",
    "                                            period_burnout = 500,\n",
    "                                            temp_range     = (0.1, 5),\n",
    "                                            N              = 50 )"
   ]
  },
  {
   "cell_type": "code",
   "execution_count": 18,
   "metadata": {},
   "outputs": [
    {
     "data": {
      "image/png": "[encoded data removed]",
      "text/plain": [
       "<Figure size 576x360 with 1 Axes>"
      ]
     },
     "metadata": {},
     "output_type": "display_data"
    }
   ],
   "source": [
    "import matplotlib.pyplot as plt\n",
    "fig  = plt.figure(figsize = (8, 5))\n",
    "axes = plt.gca()\n",
    "axes.plot(Ts, M_avg)\n",
    "\n",
    "# Setting plot elements >>\n",
    "axes.set_title(\"M vs T\")\n",
    "axes.set_xlabel(\"T\")\n",
    "axes.set_ylabel(\"M\")\n",
    "# if xlim: axes.set_xlim(xlim)\n",
    "# if ylim: axes.set_ylim(ylim)\n",
    "plt.show()"
   ]
  },
  {
   "cell_type": "code",
   "execution_count": 19,
   "metadata": {},
   "outputs": [
    {
     "data": {
      "image/png": "[encoded data removed]",
      "text/plain": [
       "<Figure size 576x360 with 1 Axes>"
      ]
     },
     "metadata": {},
     "output_type": "display_data"
    }
   ],
   "source": [
    "import matplotlib.pyplot as plt\n",
    "fig  = plt.figure(figsize = (8, 5))\n",
    "axes = plt.gca()\n",
    "axes.plot(Ts, E_avg)\n",
    "\n",
    "# Setting plot elements >>\n",
    "axes.set_title(\"E vs T\")\n",
    "axes.set_xlabel(\"T\")\n",
    "axes.set_ylabel(\"E\")\n",
    "# if xlim: axes.set_xlim(xlim)\n",
    "# if ylim: axes.set_ylim(ylim)\n",
    "plt.show()"
   ]
  },
  {
   "cell_type": "code",
   "execution_count": null,
   "metadata": {},
   "outputs": [
    {
     "name": "stderr",
     "output_type": "stream",
     "text": [
      "  4% |##                                                                      |\r"
     ]
    }
   ],
   "source": [
    "from progressbar import ProgressBar\n",
    "\n",
    "size_lattice    = [10, 10]\n",
    "\n",
    "Ts     = np.linspace(0.1, 5, num = 50)\n",
    "len_Ts = len(Ts)\n",
    "M_avg  = [np.nan] * len_Ts\n",
    "E_avg  = [np.nan] * len_Ts\n",
    "\n",
    "# Loop for temperatures >>\n",
    "pbar = ProgressBar()\n",
    "j    = -1\n",
    "for T in pbar(Ts):\n",
    "    j = j + 1\n",
    "    # Burnout runs >>    \n",
    "    spins_old    = get_spin_lattice(size_lattice = size_lattice)\n",
    "    spins_eqib, _ = sweep_N( spins = spins_old,\n",
    "                            n     = 1000,\n",
    "                            T     = T )\n",
    "\n",
    "    # Loop for N sweeps >>\n",
    "    N  = 40\n",
    "    Ms = [np.nan] * N\n",
    "    Es = [np.nan] * N\n",
    "    for i in range(N):\n",
    "        spins_new, E_new = sweep_single( spins = spins_eqib,\n",
    "                                     T     = 1 )\n",
    "        Ms[i] = abs(spins_new.sum())\n",
    "        Es[i] = abs(E_new)\n",
    "        \n",
    "    M_avg[j] = np.average(Ms)\n",
    "    E_avg[j] = np.average(Es)\n"
   ]
  },
  {
   "cell_type": "code",
   "execution_count": 19,
   "metadata": {},
   "outputs": [
    {
     "data": {
      "image/png": "[encoded data removed]",
      "text/plain": [
       "<Figure size 576x360 with 1 Axes>"
      ]
     },
     "metadata": {},
     "output_type": "display_data"
    }
   ],
   "source": [
    "import matplotlib.pyplot as plt\n",
    "fig  = plt.figure(figsize = (8, 5))\n",
    "axes = plt.gca()\n",
    "axes.plot(Ts, E_avg)\n",
    "\n",
    "# Setting plot elements >>\n",
    "axes.set_title(\"E vs T\")\n",
    "axes.set_xlabel(\"T\")\n",
    "axes.set_ylabel(\"E\")\n",
    "# if xlim: axes.set_xlim(xlim)\n",
    "# if ylim: axes.set_ylim(ylim)\n",
    "plt.show()"
   ]
  },
  {
   "cell_type": "code",
   "execution_count": 25,
   "metadata": {},
   "outputs": [
    {
     "data": {
      "text/plain": [
       "[15.0, 25.0, 25.0, 25.0, 25.0, 25.0, 25.0, 25.0, 25.0, 25.0]"
      ]
     },
     "execution_count": 25,
     "metadata": {},
     "output_type": "execute_result"
    }
   ],
   "source": [
    "Ms\n",
    "# Es\n",
    "# M_avg\n",
    "# E_avg"
   ]
  },
  {
   "cell_type": "code",
   "execution_count": 26,
   "metadata": {},
   "outputs": [
    {
     "data": {
      "text/plain": [
       "50"
      ]
     },
     "execution_count": 26,
     "metadata": {},
     "output_type": "execute_result"
    }
   ],
   "source": [
    "len(Ms)\n",
    "len(Es)\n",
    "len(M_avg)\n",
    "len(E_avg)"
   ]
  },
  {
   "cell_type": "code",
   "execution_count": null,
   "metadata": {},
   "outputs": [],
   "source": []
  },
  {
   "cell_type": "code",
   "execution_count": null,
   "metadata": {},
   "outputs": [],
   "source": []
  },
  {
   "cell_type": "code",
   "execution_count": null,
   "metadata": {},
   "outputs": [],
   "source": []
  },
  {
   "cell_type": "code",
   "execution_count": null,
   "metadata": {},
   "outputs": [],
   "source": []
  },
  {
   "cell_type": "code",
   "execution_count": null,
   "metadata": {},
   "outputs": [],
   "source": []
  },
  {
   "cell_type": "code",
   "execution_count": null,
   "metadata": {},
   "outputs": [],
   "source": []
  },
  {
   "cell_type": "code",
   "execution_count": null,
   "metadata": {},
   "outputs": [],
   "source": []
  },
  {
   "cell_type": "code",
   "execution_count": null,
   "metadata": {},
   "outputs": [],
   "source": []
  },
  {
   "cell_type": "code",
   "execution_count": null,
   "metadata": {},
   "outputs": [],
   "source": []
  },
  {
   "cell_type": "code",
   "execution_count": null,
   "metadata": {},
   "outputs": [],
   "source": []
  },
  {
   "cell_type": "code",
   "execution_count": null,
   "metadata": {},
   "outputs": [],
   "source": []
  },
  {
   "cell_type": "markdown",
   "metadata": {},
   "source": [
    "### <span style=\"color:skyblue\"> The two 2nd order differential equations </span>"
   ]
  },
  {
   "cell_type": "code",
   "execution_count": 23,
   "metadata": {},
   "outputs": [],
   "source": [
    "def d2x(t, x, vx):\n",
    "    m = 30\n",
    "    return - k/m * v(vx, vy) * vx\n",
    "\n",
    "def d2y(t, y, vy):\n",
    "    m = 30;\n",
    "    g = 9.8\n",
    "    return -( g + k/m * v(vx, vy) * vy )"
   ]
  },
  {
   "cell_type": "markdown",
   "metadata": {},
   "source": [
    "# <span style=\"color:green\"> Final Solution Problem 1</span>"
   ]
  },
  {
   "cell_type": "markdown",
   "metadata": {},
   "source": [
    "### <span style=\"color:orange\"> for Θ = 30 </span>"
   ]
  },
  {
   "cell_type": "code",
   "execution_count": 24,
   "metadata": {
    "scrolled": true
   },
   "outputs": [
    {
     "ename": "NameError",
     "evalue": "name 'vy' is not defined",
     "output_type": "error",
     "traceback": [
      "\u001b[1;31m---------------------------------------------------------------------------\u001b[0m",
      "\u001b[1;31mNameError\u001b[0m                                 Traceback (most recent call last)",
      "\u001b[1;32m<ipython-input-24-3aaeaaa537a9>\u001b[0m in \u001b[0;36m<module>\u001b[1;34m\u001b[0m\n\u001b[0;32m      1\u001b[0m \u001b[0mthetas\u001b[0m \u001b[1;33m=\u001b[0m \u001b[1;33m[\u001b[0m\u001b[1;36m30\u001b[0m\u001b[1;33m]\u001b[0m\u001b[1;33m\u001b[0m\u001b[1;33m\u001b[0m\u001b[0m\n\u001b[0;32m      2\u001b[0m \u001b[1;32mfor\u001b[0m \u001b[0mtheta\u001b[0m \u001b[1;32min\u001b[0m \u001b[0mthetas\u001b[0m\u001b[1;33m:\u001b[0m\u001b[1;33m\u001b[0m\u001b[1;33m\u001b[0m\u001b[0m\n\u001b[1;32m----> 3\u001b[1;33m     \u001b[0mRK_4th\u001b[0m\u001b[1;33m(\u001b[0m\u001b[1;36m100\u001b[0m\u001b[1;33m,\u001b[0m \u001b[0mtheta\u001b[0m\u001b[1;33m,\u001b[0m \u001b[0md2x\u001b[0m\u001b[1;33m,\u001b[0m \u001b[0md2y\u001b[0m\u001b[1;33m,\u001b[0m \u001b[0mh\u001b[0m \u001b[1;33m=\u001b[0m \u001b[1;36m0.02\u001b[0m\u001b[1;33m,\u001b[0m \u001b[0mplot_enabled\u001b[0m \u001b[1;33m=\u001b[0m \u001b[1;32mTrue\u001b[0m\u001b[1;33m,\u001b[0m \u001b[0mxlim\u001b[0m \u001b[1;33m=\u001b[0m \u001b[1;33m(\u001b[0m\u001b[1;36m0\u001b[0m\u001b[1;33m,\u001b[0m \u001b[1;36m1100\u001b[0m\u001b[1;33m)\u001b[0m\u001b[1;33m)\u001b[0m\u001b[1;33m\u001b[0m\u001b[1;33m\u001b[0m\u001b[0m\n\u001b[0m",
      "\u001b[1;32m<ipython-input-22-05be9ff0df04>\u001b[0m in \u001b[0;36mRK_4th\u001b[1;34m(v0, theta, d2x, d2y, h, plot_enabled, xlim, ylim)\u001b[0m\n\u001b[0;32m     87\u001b[0m \u001b[1;33m\u001b[0m\u001b[0m\n\u001b[0;32m     88\u001b[0m     \u001b[0mk\u001b[0m \u001b[1;33m=\u001b[0m \u001b[1;36m5\u001b[0m \u001b[1;33m*\u001b[0m \u001b[1;36m10\u001b[0m\u001b[1;33m**\u001b[0m\u001b[1;33m(\u001b[0m\u001b[1;33m-\u001b[0m\u001b[1;36m2\u001b[0m\u001b[1;33m)\u001b[0m\u001b[1;33m\u001b[0m\u001b[1;33m\u001b[0m\u001b[0m\n\u001b[1;32m---> 89\u001b[1;33m     \u001b[0mxpoints\u001b[0m\u001b[1;33m,\u001b[0m    \u001b[0mypoints\u001b[0m\u001b[1;33m,\u001b[0m    \u001b[0mt\u001b[0m    \u001b[1;33m=\u001b[0m \u001b[0mloop\u001b[0m\u001b[1;33m(\u001b[0m\u001b[1;33m)\u001b[0m\u001b[1;33m\u001b[0m\u001b[1;33m\u001b[0m\u001b[0m\n\u001b[0m\u001b[0;32m     90\u001b[0m \u001b[1;33m\u001b[0m\u001b[0m\n\u001b[0;32m     91\u001b[0m     \u001b[0mk\u001b[0m \u001b[1;33m=\u001b[0m \u001b[1;36m0\u001b[0m\u001b[1;33m\u001b[0m\u001b[1;33m\u001b[0m\u001b[0m\n",
      "\u001b[1;32m<ipython-input-22-05be9ff0df04>\u001b[0m in \u001b[0;36mloop\u001b[1;34m()\u001b[0m\n\u001b[0;32m     52\u001b[0m             \u001b[1;31m# Constants for x >>\u001b[0m\u001b[1;33m\u001b[0m\u001b[1;33m\u001b[0m\u001b[1;33m\u001b[0m\u001b[0m\n\u001b[0;32m     53\u001b[0m             \u001b[0mk1x\u001b[0m \u001b[1;33m=\u001b[0m \u001b[0mh\u001b[0m \u001b[1;33m*\u001b[0m \u001b[0md1x\u001b[0m\u001b[1;33m(\u001b[0m\u001b[0mt\u001b[0m\u001b[1;33m,\u001b[0m \u001b[0mx\u001b[0m\u001b[1;33m,\u001b[0m \u001b[0mvx\u001b[0m\u001b[1;33m)\u001b[0m\u001b[1;33m\u001b[0m\u001b[1;33m\u001b[0m\u001b[0m\n\u001b[1;32m---> 54\u001b[1;33m             \u001b[0ml1x\u001b[0m \u001b[1;33m=\u001b[0m \u001b[0mh\u001b[0m \u001b[1;33m*\u001b[0m \u001b[0md2x\u001b[0m\u001b[1;33m(\u001b[0m\u001b[0mt\u001b[0m\u001b[1;33m,\u001b[0m \u001b[0mx\u001b[0m\u001b[1;33m,\u001b[0m \u001b[0mvx\u001b[0m\u001b[1;33m)\u001b[0m\u001b[1;33m\u001b[0m\u001b[1;33m\u001b[0m\u001b[0m\n\u001b[0m\u001b[0;32m     55\u001b[0m \u001b[1;33m\u001b[0m\u001b[0m\n\u001b[0;32m     56\u001b[0m             \u001b[0mk2x\u001b[0m \u001b[1;33m=\u001b[0m \u001b[0mh\u001b[0m \u001b[1;33m*\u001b[0m \u001b[0md1x\u001b[0m\u001b[1;33m(\u001b[0m\u001b[0mt\u001b[0m\u001b[1;33m+\u001b[0m\u001b[1;36m0.5\u001b[0m\u001b[1;33m*\u001b[0m\u001b[0mh\u001b[0m\u001b[1;33m,\u001b[0m \u001b[0mx\u001b[0m\u001b[1;33m+\u001b[0m\u001b[1;36m0.5\u001b[0m\u001b[1;33m*\u001b[0m\u001b[0mk1x\u001b[0m\u001b[1;33m,\u001b[0m \u001b[0mvx\u001b[0m\u001b[1;33m+\u001b[0m\u001b[1;36m0.5\u001b[0m\u001b[1;33m*\u001b[0m\u001b[0ml1x\u001b[0m\u001b[1;33m)\u001b[0m\u001b[1;33m\u001b[0m\u001b[1;33m\u001b[0m\u001b[0m\n",
      "\u001b[1;32m<ipython-input-23-f2ce479e26fe>\u001b[0m in \u001b[0;36md2x\u001b[1;34m(t, x, vx)\u001b[0m\n\u001b[0;32m      1\u001b[0m \u001b[1;32mdef\u001b[0m \u001b[0md2x\u001b[0m\u001b[1;33m(\u001b[0m\u001b[0mt\u001b[0m\u001b[1;33m,\u001b[0m \u001b[0mx\u001b[0m\u001b[1;33m,\u001b[0m \u001b[0mvx\u001b[0m\u001b[1;33m)\u001b[0m\u001b[1;33m:\u001b[0m\u001b[1;33m\u001b[0m\u001b[1;33m\u001b[0m\u001b[0m\n\u001b[0;32m      2\u001b[0m     \u001b[0mm\u001b[0m \u001b[1;33m=\u001b[0m \u001b[1;36m30\u001b[0m\u001b[1;33m\u001b[0m\u001b[1;33m\u001b[0m\u001b[0m\n\u001b[1;32m----> 3\u001b[1;33m     \u001b[1;32mreturn\u001b[0m \u001b[1;33m-\u001b[0m \u001b[0mk\u001b[0m\u001b[1;33m/\u001b[0m\u001b[0mm\u001b[0m \u001b[1;33m*\u001b[0m \u001b[0mv\u001b[0m\u001b[1;33m(\u001b[0m\u001b[0mvx\u001b[0m\u001b[1;33m,\u001b[0m \u001b[0mvy\u001b[0m\u001b[1;33m)\u001b[0m \u001b[1;33m*\u001b[0m \u001b[0mvx\u001b[0m\u001b[1;33m\u001b[0m\u001b[1;33m\u001b[0m\u001b[0m\n\u001b[0m\u001b[0;32m      4\u001b[0m \u001b[1;33m\u001b[0m\u001b[0m\n\u001b[0;32m      5\u001b[0m \u001b[1;32mdef\u001b[0m \u001b[0md2y\u001b[0m\u001b[1;33m(\u001b[0m\u001b[0mt\u001b[0m\u001b[1;33m,\u001b[0m \u001b[0my\u001b[0m\u001b[1;33m,\u001b[0m \u001b[0mvy\u001b[0m\u001b[1;33m)\u001b[0m\u001b[1;33m:\u001b[0m\u001b[1;33m\u001b[0m\u001b[1;33m\u001b[0m\u001b[0m\n",
      "\u001b[1;31mNameError\u001b[0m: name 'vy' is not defined"
     ]
    }
   ],
   "source": [
    "thetas = [30]\n",
    "for theta in thetas:\n",
    "    RK_4th(100, theta, d2x, d2y, h = 0.02, plot_enabled = True, xlim = (0, 1100))"
   ]
  },
  {
   "cell_type": "markdown",
   "metadata": {},
   "source": [
    "### <span style=\"color:orange\"> for Θ = 45 </span>"
   ]
  },
  {
   "cell_type": "code",
   "execution_count": null,
   "metadata": {
    "scrolled": true
   },
   "outputs": [],
   "source": [
    "thetas = [45]\n",
    "for theta in thetas:\n",
    "    RK_4th(100, theta, d2x, d2y, h = 0.02, plot_enabled = True, xlim = (0, 1100))"
   ]
  },
  {
   "cell_type": "markdown",
   "metadata": {},
   "source": [
    "### <span style=\"color:orange\"> for Θ = 60 </span>"
   ]
  },
  {
   "cell_type": "code",
   "execution_count": null,
   "metadata": {
    "scrolled": true
   },
   "outputs": [],
   "source": [
    "thetas = [60]\n",
    "for theta in thetas:\n",
    "    RK_4th(100, theta, d2x, d2y, h = 0.02, plot_enabled = True, xlim = (0, 1100))"
   ]
  },
  {
   "cell_type": "markdown",
   "metadata": {},
   "source": [
    "## <span style=\"color:orange\"> Finding Max Range </span>"
   ]
  },
  {
   "cell_type": "code",
   "execution_count": null,
   "metadata": {
    "scrolled": false
   },
   "outputs": [],
   "source": [
    "thetas = [10, 20, 30, 40, 45, 50, 60, 70, 80]\n",
    "for theta in thetas:\n",
    "    RK_4th(100, theta, d2x, d2y, h = 0.02, plot_enabled = True, xlim = (0, 1100))"
   ]
  },
  {
   "cell_type": "markdown",
   "metadata": {},
   "source": [
    "### <span style=\"color:green\"> Max Range is for Θ = 45 </span>\n",
    "<span style=\"color:skyblue\"> With    frinction = 536.8174 m </span>  \n",
    "<span style=\"color:skyblue\"> Without frinction = 1019.648 m </span>"
   ]
  },
  {
   "cell_type": "code",
   "execution_count": null,
   "metadata": {},
   "outputs": [],
   "source": []
  }
 ],
 "metadata": {
  "kernelspec": {
   "display_name": "Python 3",
   "language": "python",
   "name": "python3"
  },
  "language_info": {
   "codemirror_mode": {
    "name": "ipython",
    "version": 3
   },
   "file_extension": ".py",
   "mimetype": "text/x-python",
   "name": "python",
   "nbconvert_exporter": "python",
   "pygments_lexer": "ipython3",
   "version": "3.8.5"
  }
 },
 "nbformat": 4,
 "nbformat_minor": 4
}
